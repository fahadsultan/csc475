{
  "cells": [
    {
      "cell_type": "markdown",
      "source": [
        "\n",
        "<center>\n",
        "<h1><b></b></h1>\n",
        "<h1><b>CSC-122: DATA STRUCTURES AND ALGORITHMS</b></h1>\n",
        "<h1><b>PROGRAMMING ASSIGNMENT 1</b></h1>\n",
        "<h1><b>SPRING 2024</b></h1>\n",
        "</center>\n",
        "<br/>\n",
        "<hr/>\n",
        "<br/>\n",
        "\n",
        "**Instructions**:\n",
        "\n",
        "* This environment is called **Google Colab**. It essentially allows you to run Python code in the browser without any hassle of needing to download or install anything.\n",
        "\n",
        "  You can read more about Colab at **[this link](https://colab.research.google.com/?utm_source=scs-index)**.\n",
        "\n",
        "* Each file in Colab is linked to a Google account. This one is linked to mine. You can edit this file and run the code, but your edits won't be saved.\n",
        "\n",
        "  In order to edit and save, you need to make a copy of this notebook.\n",
        "  \n",
        "  1. First `Sign In` with your Gmail/Google account from the top right corner.\n",
        "  \n",
        "  2. Click on `File` from the menu bar in the top left.\n",
        "  \n",
        "  3. From the dropdown click on `Save a copy in Drive`.\n",
        "\n",
        "  4. Now, the copy of this file is linked to your Google Account.\n",
        "  \n",
        "    It might be a good idea to append your name to the copied file name to avoid any confusion between the two copies. You can do so by clicking on the filename in the top-left corner above the menu bar.\n",
        "\n",
        "    This file is titled `Assignment 1.ipynb`. If your name is Fahad, you should change the file name to `Assignment 1 (Fahad).ipynb`\n",
        "\n",
        "* When you are finished working on this assignment, click on `File` from the menu bar and select `Download` and then `Download .ipynb`.\n",
        "\n",
        "  Doing so would download the file onto your computer that you can then submit on Moodle.\n",
        "\n",
        "* Please note that this assignment will only be graded in person.\n",
        "\n",
        "* Please note that using any AI agent in any manner for this assignment will be considered plagiarism.\n",
        "\n",
        "* Please note that you are not allowed to use any built-in functions for this assignments other than for insertion, deletion and update in lists.\n",
        "\n",
        "<br/>\n",
        "<hr/>\n",
        "<br/>"
      ],
      "metadata": {
        "id": "PAoAa5H56dgU"
      },
      "id": "PAoAa5H56dgU"
    },
    {
      "cell_type": "markdown",
      "source": [
        "<center>\n",
        "<h5></h5>\n",
        "<h1><b>Algorithms</b></h1>\n",
        "\n",
        "</center>\n",
        "\n",
        "\n",
        "<img width=\"18%\" align=\"right\" src=\"https://science4fun.info/wp-content/uploads/2019/05/Muhammad-ibn-Musa-al-Khwarizmi-portrait.jpg\">\n",
        "\n",
        "\n",
        "The word _Algorithm_ is the Latinization of the name of a ninth century polymath in Baghdad: [Al-Khwarizmi](https://en.wikipedia.org/wiki/Al-Khwarizmi).\n",
        "\n",
        "<br/>\n",
        "\n",
        "$$\\text{Al-Khwarizmi} \\rightarrow \\text{Al-gorismus} \\rightarrow \\text{Algorithm}$$\n",
        "\n",
        "<br/>\n",
        "\n",
        "Al-Khwarizmi is also known to be the father of _Algebra_ (Latinization of _[Al Jabr](https://en.wikipedia.org/wiki/Al-Jabr)_ meaning the Completion ; _'Al'_ means _'the'_ in Arabic). His books _\"Book of Indian computation\"_ and _\"Addition and subtraction in Indian arithmetic\"_ also introduced Indian numerals to the Western world. In this books, Al-Khwarizmi introduced procedures that were precise, unambiguous, mechanical, efficient, and correct. In short, they were modern-day \"algorithms\".\n",
        "\n",
        "<br/>\n",
        "<hr/>\n",
        "<br/>\n",
        "\n",
        "For each of the questions below, reflect on the scalability of your solutions.\n",
        "\n",
        "Pick from \"constant\", \"logarithmic\", \"linear\", \"quadratic\" or \"worse\" and briefly comment on the reasons of your choice.\n",
        "\n",
        "\n",
        "<br/>\n",
        "\n",
        "<center><img  src=\"https://i.ibb.co/0JR3dRN/0-A-o-Cua-GGKOdoxm-Ny.png\" width=\"50%\"></center>\n",
        "\n",
        "\n",
        "<br/>\n",
        "\n",
        "Please note that your answers on scalability of your code is _not graded for completeness_ in this assigment."
      ],
      "metadata": {
        "id": "iTSNIzek9X71"
      },
      "id": "iTSNIzek9X71"
    },
    {
      "cell_type": "markdown",
      "id": "fef50443",
      "metadata": {
        "id": "fef50443"
      },
      "source": [
        "<hr/>\n",
        "\n",
        "# **Question 1**.  Find Minimum Value\n",
        "\n",
        "Write a function `minimum` that accepts as input a list of integers or floats and return the list item with the **minimum** value.\n",
        "\n",
        "Return `None` is the list of numbers passed is empty.\n"
      ]
    },
    {
      "cell_type": "code",
      "execution_count": null,
      "id": "49d6c3cf",
      "metadata": {
        "id": "49d6c3cf"
      },
      "outputs": [],
      "source": [
        "def minimum(numbers):\n",
        "    if len(numbers) == 0:\n",
        "        return None\n",
        "    min = numbers[0]\n",
        "    for item in numbers:\n",
        "        if item < min:\n",
        "            min = item\n",
        "    return min"
      ]
    },
    {
      "cell_type": "markdown",
      "id": "17bd4d00",
      "metadata": {
        "id": "17bd4d00"
      },
      "source": [
        "Test your implementation using the test cases below"
      ]
    },
    {
      "cell_type": "markdown",
      "source": [],
      "metadata": {
        "id": "X-HBeuNcJvg3"
      },
      "id": "X-HBeuNcJvg3"
    },
    {
      "cell_type": "markdown",
      "source": [],
      "metadata": {
        "id": "9vtl2Z7sJuqZ"
      },
      "id": "9vtl2Z7sJuqZ"
    },
    {
      "cell_type": "code",
      "execution_count": null,
      "id": "96ec2203",
      "metadata": {
        "id": "96ec2203"
      },
      "outputs": [],
      "source": [
        "assert minimum([1, 2, 3, 4]) == 1,     \"Test case 1 failed\"\n",
        "assert minimum([1])          == 1,     \"Test case 2 failed\"\n",
        "assert minimum([1, 1, 1, 1]) == 1,     \"Test case 3 failed\"\n",
        "assert minimum([1, 0, -1])   == -1,    \"Test case 4 failed\"\n",
        "assert minimum([1, 0, 1])    == 0,     \"Test case 5 failed\"\n",
        "assert minimum([])           == None,  \"Test case 5 failed\"\n",
        "\n",
        "print(\"All test cases passed successfully :)\")"
      ]
    },
    {
      "cell_type": "code",
      "source": [
        "\"\"\"\n",
        "\n",
        "Q1b. For how you might think your code scales with increasing data, pick\n",
        "one of the four below by marking your choice with an 'X' inside the square brackets\n",
        "\n",
        "- [ ] Constant\n",
        "- [ ] Logarithmic\n",
        "- [X] Linear\n",
        "- [ ] Quadratic\n",
        "\n",
        "Q1c. Briefly explain your choice below:\n",
        "My code will be Linear because it executes precisely 2 lines of code within the\n",
        "loop for each item in the list.\n",
        "\"\"\""
      ],
      "metadata": {
        "id": "IMxuJp9MstnJ"
      },
      "id": "IMxuJp9MstnJ",
      "execution_count": null,
      "outputs": []
    },
    {
      "cell_type": "markdown",
      "id": "6fbc479b",
      "metadata": {
        "id": "6fbc479b"
      },
      "source": [
        "<br/>\n",
        "<hr/>\n",
        "<br/>\n",
        "\n",
        "# **Question 2.** Reversing a List\n",
        "\n",
        "Write a function `reverse` that accepts as input a list of numbers `numbers` and **returns a new list** which has the values from `numbers` reversed.\n",
        "\n",
        "You are required to use a loop for this question. No clever slicing operation allowed.\n",
        "\n",
        "Example: `numbers = [4, 1, 3, 2]` returns `[2, 3, 1, 4]`"
      ]
    },
    {
      "cell_type": "code",
      "execution_count": null,
      "id": "42d75adc",
      "metadata": {
        "id": "42d75adc"
      },
      "outputs": [],
      "source": [
        "def reverse(numbers):\n",
        "  numbers_r = []\n",
        "    for item in numbers:\n",
        "        numbers_r.insert(0, item)\n",
        "\n",
        "  return numbers_r"
      ]
    },
    {
      "cell_type": "markdown",
      "id": "5da167d5",
      "metadata": {
        "id": "5da167d5"
      },
      "source": [
        "Test your implementation using the test cases below   "
      ]
    },
    {
      "cell_type": "code",
      "execution_count": null,
      "id": "74d3bdbf",
      "metadata": {
        "colab": {
          "base_uri": "https://localhost:8080/"
        },
        "id": "74d3bdbf",
        "outputId": "98099e32-4b4d-4f46-c522-75114b665afb"
      },
      "outputs": [
        {
          "output_type": "stream",
          "name": "stdout",
          "text": [
            "All test cases passed successfully :)\n"
          ]
        }
      ],
      "source": [
        "assert reverse([1, 2, 3, 4]) == [4, 3, 2, 1], \"Test case 1 failed\"\n",
        "assert reverse([1])          == [1],          \"Test case 2 failed\"\n",
        "assert reverse([1, 1, 1, 1]) == [1, 1, 1, 1], \"Test case 3 failed\"\n",
        "assert reverse([1, 0, 1])    == [1, 0, 1],    \"Test case 4 failed\"\n",
        "assert reverse([])           == [],           \"Test case 5 failed\"\n",
        "\n",
        "print(\"All test cases passed successfully :)\")"
      ]
    },
    {
      "cell_type": "code",
      "source": [
        "\"\"\"\n",
        "\n",
        "Q2b. For how you might think your code scales with increasing data, pick\n",
        "one of the four below by marking your choice with an 'X' inside the square brackets\n",
        "\n",
        "- [ ] Constant\n",
        "- [ ] Logarithmic\n",
        "- [X] Linear\n",
        "- [ ] Quadratic\n",
        "\n",
        "Q2c. Briefly explain your choice below:\n",
        "Yet again, it executes the exact same number of lines for each number in the list.\n",
        "\"\"\""
      ],
      "metadata": {
        "id": "BEyh_q40vNo1"
      },
      "id": "BEyh_q40vNo1",
      "execution_count": null,
      "outputs": []
    },
    {
      "cell_type": "markdown",
      "id": "b7735835",
      "metadata": {
        "id": "b7735835"
      },
      "source": [
        "<br/>\n",
        "<hr/>\n",
        "<br/>\n",
        "\n",
        "\n",
        "# **Question 3.** Sort Ascending\n",
        "\n",
        "Write a function `sort_ascending` that accepts as input a list of numbers `numbers` and **returns a new list** which has the values from `numbers` sorted in **ascending order**.\n",
        "\n",
        "Example: `numbers = [4, 1, 3, 2]` returns `[1, 2, 3, 4]`\n",
        "\n",
        "**Use `minimum` from Q1**"
      ]
    },
    {
      "cell_type": "code",
      "execution_count": null,
      "id": "808110bc",
      "metadata": {
        "id": "808110bc"
      },
      "outputs": [],
      "source": [
        "def minimum(numbers):\n",
        "    if len(numbers) == 0:\n",
        "        return None\n",
        "    min = numbers[0]\n",
        "    for item in numbers:\n",
        "        if item < min:\n",
        "            min = item\n",
        "    return min\n",
        "\n",
        "def sort_ascending(numberss):\n",
        "    new_list = []\n",
        "    i = 0\n",
        "    n = len(numberss)\n",
        "    while i < n:\n",
        "        new_list.append(minimum(numberss))\n",
        "        numberss.remove(minimum(numberss))\n",
        "        i += 1\n",
        "    return new_list"
      ]
    },
    {
      "cell_type": "markdown",
      "id": "8b035e17",
      "metadata": {
        "id": "8b035e17"
      },
      "source": [
        "Test your implementation using the test cases below   "
      ]
    },
    {
      "cell_type": "code",
      "execution_count": null,
      "id": "320f7972",
      "metadata": {
        "id": "320f7972"
      },
      "outputs": [],
      "source": [
        "assert sort_ascending([1, 2, 3, 4]) == [1, 2, 3, 4], \"Test case 1 failed\"\n",
        "assert sort_ascending([4, 3, 2, 1]) == [1, 2, 3, 4], \"Test case 2 failed\"\n",
        "assert sort_ascending([1, 1, 1, 1]) == [1, 1, 1, 1], \"Test case 3 failed\"\n",
        "assert sort_ascending([1])          == [1],          \"Test case 4 failed\"\n",
        "assert sort_ascending([1, 2, 2, 1]) == [1, 1, 2, 2], \"Test case 5 failed\"\n",
        "assert sort_ascending([])           == [],         \"Test case 5 failed\"\n",
        "\n",
        "print(\"All test cases passed successfully :)\")"
      ]
    },
    {
      "cell_type": "code",
      "source": [
        "\"\"\"\n",
        "\n",
        "Q3b. For how you might think your code scales with increasing data, pick\n",
        "one of the four below by marking your choice with an 'X' inside the square brackets\n",
        "\n",
        "- [ ] Constant\n",
        "- [ ] Logarithmic\n",
        "- [X] Linear\n",
        "- [ ] Quadratic\n",
        "\n",
        "Q3c. Briefly explain your choice below:\n",
        "Same as the other two\n",
        "\"\"\""
      ],
      "metadata": {
        "id": "LJEEEOSvwy-O"
      },
      "id": "LJEEEOSvwy-O",
      "execution_count": null,
      "outputs": []
    },
    {
      "cell_type": "markdown",
      "id": "fb3e8f96",
      "metadata": {
        "id": "fb3e8f96"
      },
      "source": [
        "<br/>\n",
        "<hr/>\n",
        "<br/>\n",
        "\n",
        "\n",
        "# **Question 4.** Sort Descending\n",
        "\n",
        "Write a function `sort_descending` that accepts as input a list of numbers `numbers` and **returns a new list** which has the values from `numbers` sorted in **descending order**.\n",
        "\n",
        "Example: `numbers = [4, 1, 3, 2]` returns `[4, 3, 2, 1]`\n",
        "\n",
        "**Use `sort_ascending` from Q3. and `reverse` from Q2.**_"
      ]
    },
    {
      "cell_type": "code",
      "execution_count": null,
      "id": "dad6683f",
      "metadata": {
        "id": "dad6683f"
      },
      "outputs": [],
      "source": [
        " def minimum(numbers):\n",
        "    if len(numbers) == 0:\n",
        "        return None\n",
        "    min = numbers[0]\n",
        "    for item in numbers:\n",
        "        if item < min:\n",
        "            min = item\n",
        "    return min\n",
        "\n",
        "def sort_ascending(numberss):\n",
        "    new_list = []\n",
        "    i = 0\n",
        "    n = len(numberss)\n",
        "    while i < n:\n",
        "        new_list.append(minimum(numberss))\n",
        "        numberss.remove(minimum(numberss))\n",
        "        i += 1\n",
        "    return new_list\n",
        "\n",
        "def reverse(numbersss):\n",
        "    numbers = sort_ascending(numbersss)\n",
        "    numbers_r = []\n",
        "    for item in numbers:\n",
        "        numbers_r.insert(0, item)\n",
        "    return numbers_r\n",
        "\n",
        "def sort_descending(stuff):\n",
        "    new = reverse(stuff)\n",
        "    print(new)\n",
        "    return new"
      ]
    },
    {
      "cell_type": "markdown",
      "id": "d9cfd4a6",
      "metadata": {
        "id": "d9cfd4a6"
      },
      "source": [
        "Test your implementation using the test cases below   "
      ]
    },
    {
      "cell_type": "code",
      "execution_count": null,
      "id": "c06bff30",
      "metadata": {
        "id": "c06bff30"
      },
      "outputs": [],
      "source": [
        "assert sort_descending([1, 2, 3, 4]) == [4, 3, 2, 1], \"Test case 1 failed\"\n",
        "assert sort_descending([4, 3, 2, 1]) == [4, 3, 2, 1], \"Test case 2 failed\"\n",
        "assert sort_descending([1, 1, 1, 1]) == [1, 1, 1, 1], \"Test case 3 failed\"\n",
        "assert sort_descending([1])          == [1],          \"Test case 4 failed\"\n",
        "assert sort_descending([1, 2, 2, 1]) == [2, 2, 1, 1], \"Test case 5 failed\"\n",
        "assert sort_descending([])           == [],           \"Test case 5 failed\"\n",
        "\n",
        "print(\"All test cases passed successfully :)\")"
      ]
    },
    {
      "cell_type": "code",
      "source": [
        "\"\"\"\n",
        "\n",
        "Q4b. For how you might think your code scales with increasing data, pick\n",
        "one of the four below by marking your choice with an 'X' inside the square brackets\n",
        "\n",
        "- [ ] Constant\n",
        "- [ ] Logarithmic\n",
        "- [X] Linear\n",
        "- [ ] Quadratic\n",
        "\n",
        "Q4c. Briefly explain your choice below:\n",
        "Same reason\n",
        "\"\"\""
      ],
      "metadata": {
        "id": "d4_QBhwG0gwv"
      },
      "id": "d4_QBhwG0gwv",
      "execution_count": null,
      "outputs": []
    },
    {
      "cell_type": "markdown",
      "source": [
        "<br/>\n",
        "<hr/>\n",
        "<br/>\n",
        "\n",
        "\n",
        "# **Question 5.** Factorial $n!$\n",
        "\n",
        "Factorial of a number $n$ is the product of all positive integers less than or equal to $n$ and denoted by that integer and an exclamation point $!$ i.e.\n",
        "\n",
        "$$ n! = n~~\\times~~(n-1)~~\\times~~(n-2) \\cdots \\times 2 \\times 1$$\n",
        "\n",
        "or\n",
        "\n",
        "$$ n! = \\prod_{i=1}^{n} i$$\n",
        "\n",
        "For example, $5!$\n",
        "\n",
        "$  \\\\ = 5 \\times 4 \\times 3 \\times 2 \\times 1 \\\\ = 120$\n",
        "\n",
        "<br/>\n",
        "\n",
        "Write a function that takes as input an integer $n$ and returns as output $n!$ using the formula above.\n"
      ],
      "metadata": {
        "id": "j_-RyoJUySzI"
      },
      "id": "j_-RyoJUySzI"
    },
    {
      "cell_type": "code",
      "source": [
        "def factorial(n):\n",
        "    i = 1\n",
        "    rnum = 1\n",
        "    while i < n:\n",
        "        if i < n:\n",
        "            rnum *= (i+1)\n",
        "            i += 1\n",
        "    return rnum"
      ],
      "metadata": {
        "id": "TMQnCVatyZSr"
      },
      "id": "TMQnCVatyZSr",
      "execution_count": null,
      "outputs": []
    },
    {
      "cell_type": "markdown",
      "source": [
        "Test your implementation using the test cases below"
      ],
      "metadata": {
        "id": "BdT9mo7Q3OzX"
      },
      "id": "BdT9mo7Q3OzX"
    },
    {
      "cell_type": "code",
      "source": [
        "assert factorial(1)  == 1,         \"Test case 1 failed\"\n",
        "assert factorial(2)  == 2,         \"Test case 2 failed\"\n",
        "assert factorial(5)  == 120,       \"Test case 3 failed\"\n",
        "assert factorial(10)  == 3628800,  \"Test case 4 failed\"\n",
        "\n",
        "print(\"All test cases passed successfully :)\")"
      ],
      "metadata": {
        "id": "kNPIPXZz3PIm"
      },
      "id": "kNPIPXZz3PIm",
      "execution_count": null,
      "outputs": []
    },
    {
      "cell_type": "code",
      "source": [
        "\"\"\"\n",
        "\n",
        "Q5b. For how you might think your code scales with increasing data, pick\n",
        "one of the four below by marking your choice with an 'X' inside the square brackets\n",
        "\n",
        "- [ ] Constant\n",
        "- [ ] Logarithmic\n",
        "- [ ] Linear\n",
        "- [X] Quadratic\n",
        "\n",
        "Q5c. Briefly explain your choice below:\n",
        "The output will be significantly greater for each input than the last\n",
        "\"\"\""
      ],
      "metadata": {
        "id": "KVb00ou17PJj"
      },
      "id": "KVb00ou17PJj",
      "execution_count": null,
      "outputs": []
    },
    {
      "cell_type": "markdown",
      "source": [
        "<br/><hr/><br/>\n",
        "\n",
        "# **Question 6.** Fibonacci Sequence\n",
        "\n",
        "<img width=\"30%\" align=\"right\" src=\"https://images.squarespace-cdn.com/content/v1/56e9de518259b5a23fa3af55/1484199979655-GIW7J2RCMIBNNJCYOLV6/leonardo_de_pisa_fibonacci.jpg\">\n",
        "\n",
        "Al Khwarizmi’s work could not have gained a foothold in the West were it not for the efforts of one man: the 15th century Italian mathematician [Leonardo Fibonacci](https://en.wikipedia.org/wiki/Fibonacci), who saw the potential of the positional Indian numeral system and worked hard to develop it further and propagandize it. But today Fibonacci is most widely known for his famous sequence of numbers known commonly as **Fibonacci sequence**.\n",
        "\n",
        "<br/>\n",
        "\n",
        "The first two numbers of the Fibonacci sequence are 0 and 1 respectively.\n",
        "\n",
        "After the first two, each number in the sequence is the sum of the previous two numbers.\n",
        "\n",
        "The first few numbers of the Fibonacci sequence are 0, 1, 1, 2, 3, 5, 8, ...\n",
        "\n",
        "The value after 8 is 5 + 8 = 13.\n",
        "\n",
        "The sequence can be summarized as follows:\n",
        "\n",
        "> $F_0 = 0$ \\\n",
        "> $F_1 = 1$\n",
        ">\n",
        "> For all $n$ > 1,\n",
        ">\n",
        "> $F_n = F_{n-1} + F_{n-2}$\n",
        "\n",
        "Write a function that takes as input an integer $n$ and returns as output the $𝑛$th Fibonacci number, using the formula above."
      ],
      "metadata": {
        "id": "g3f8dN8e5WFe"
      },
      "id": "g3f8dN8e5WFe"
    },
    {
      "cell_type": "code",
      "execution_count": null,
      "metadata": {
        "id": "2iVAMoAa5REg"
      },
      "outputs": [],
      "source": [
        "def fibonacci(n):\n",
        "    fiblist = [0, 1]\n",
        "    i = 2\n",
        "    while i <= n:\n",
        "        fiblist.append(fiblist[i-1] + fiblist[i-2])\n",
        "        i += 1\n",
        "    return fiblist[n]"
      ],
      "id": "2iVAMoAa5REg"
    },
    {
      "cell_type": "markdown",
      "source": [
        "Test your implementation using the test cases below"
      ],
      "metadata": {
        "id": "BfgtB0sZ54cr"
      },
      "id": "BfgtB0sZ54cr"
    },
    {
      "cell_type": "code",
      "source": [
        "assert fibonacci(0)  == 0,  \"Test case 1 failed\"\n",
        "assert fibonacci(1)  == 1,  \"Test case 2 failed\"\n",
        "assert fibonacci(2)  == 1,  \"Test case 3 failed\"\n",
        "assert fibonacci(3)  == 2,  \"Test case 4 failed\"\n",
        "assert fibonacci(4)  == 3,  \"Test case 5 failed\"\n",
        "assert fibonacci(5)  == 5,  \"Test case 6 failed\"\n",
        "assert fibonacci(6)  == 8,  \"Test case 7 failed\"\n",
        "assert fibonacci(7)  == 13, \"Test case 8 failed\"\n",
        "assert fibonacci(8)  == 21, \"Test case 9 failed\"\n",
        "assert fibonacci(9)  == 34, \"Test case 10 failed\"\n",
        "assert fibonacci(10) == 55, \"Test case 11 failed\"\n",
        "\n",
        "print(\"All test cases passed successfully :)\")"
      ],
      "metadata": {
        "id": "adb_EnZW55OZ"
      },
      "execution_count": null,
      "outputs": [],
      "id": "adb_EnZW55OZ"
    },
    {
      "cell_type": "code",
      "source": [
        "\"\"\"\n",
        "\n",
        "Q6b. For how you might think your code scales with increasing data, pick\n",
        "one of the four below by marking your choice with an 'X' inside the square brackets\n",
        "\n",
        "- [ ] Constant\n",
        "- [ ] Logarithmic\n",
        "- [ ] Linear\n",
        "- [X] Quadratic\n",
        "\n",
        "Q6c. Briefly explain your choice below:\n",
        "Output increases exponentially with greater inputs\n",
        "\"\"\""
      ],
      "metadata": {
        "id": "dCvwSDLJ7TBn"
      },
      "id": "dCvwSDLJ7TBn",
      "execution_count": null,
      "outputs": []
    },
    {
      "cell_type": "markdown",
      "source": [
        "<br/>\n",
        "\n",
        "Fibonacci numbers appear unexpectedly often in nature. They have appeared as branching in trees, the arrangement of leaves on a stem, the fruit sprouts of a pineapple, the flowering of an artichoke, and the arrangement of a pine cone's bracts, though they do not occur in all species:\n",
        "\n",
        "<br/>\n",
        "\n",
        "<center>\n",
        "<img align=\"center\" width=\"50%\" src=\"https://img1.wsimg.com/isteam/ip/256c2eac-6fce-4fa6-8cc2-cb0858d3cc58/1*JAeKhx6wAxTytrbeVpDyIA.webp/:/cr=t:0%25,l:0%25,w:100%25,h:100%25/rs=w:1280\">\n",
        "</center>\n",
        "\n",
        "<br/>\n",
        "\n",
        "We will talk more on Fibonacci numbers in the near future in this course..."
      ],
      "metadata": {
        "id": "OkKA4aR2BE6b"
      },
      "id": "OkKA4aR2BE6b"
    }
  ],
  "metadata": {
    "kernelspec": {
      "display_name": "Python 3 (ipykernel)",
      "language": "python",
      "name": "python3"
    },
    "language_info": {
      "codemirror_mode": {
        "name": "ipython",
        "version": 3
      },
      "file_extension": ".py",
      "mimetype": "text/x-python",
      "name": "python",
      "nbconvert_exporter": "python",
      "pygments_lexer": "ipython3",
      "version": "3.9.12"
    },
    "colab": {
      "provenance": []
    }
  },
  "nbformat": 4,
  "nbformat_minor": 5
}