{
 "cells": [
  {
   "attachments": {},
   "cell_type": "markdown",
   "metadata": {},
   "source": [
    "# Univariate Visualizations"
   ]
  },
  {
   "attachments": {},
   "cell_type": "markdown",
   "metadata": {},
   "source": [
    "Uni-variate (single variable) visualizations are used to better understand one-dimensional data (think `pandas Series`) in the dataset. \n",
    "\n",
    "In this section, we will look at techniques to understand the **distribution** of each **feature**. Distribution of a feature, _simply put_, is the frequency of each value of the variable. \n",
    "\n",
    "We know from previous discussion that **`.value_counts()`** method on a `pandas Series` gives us the **frequency distribution** of each value in the `Series`. \n",
    "\n",
    "We will use the **World Bank dataset**, which contains information about countries and social statistics.\n",
    "<!-- \n",
    "````{card} \n",
    "\n",
    "**Boston Housing Dataset**\n",
    "\n",
    "^^^\n",
    "\n",
    "The Boston Housing Dataset is a derived from information collected by the U.S. Census Service concerning housing in the area of Boston MA. The following describes the dataset columns: \n",
    "\n",
    "| Column | Description |\n",
    "| --- | --- |\n",
    "| CRIM | per capita crime rate by town |\n",
    "| ZN | proportion of residential land zoned for lots over 25,000 sq.ft. |\n",
    "| INDUS | proportion of non-retail business acres per town.\n",
    "| CHAS | Charles River dummy variable (1 if tract bounds river; 0 otherwise)\n",
    "| NOX | nitric oxides concentration (parts per 10 million)\n",
    "| RM | average number of rooms per dwelling\n",
    "| AGE | proportion of owner-occupied units built prior to 1940\n",
    "| DIS | weighted distances to five Boston employment centres\n",
    "| RAD | index of accessibility to radial highways\n",
    "| TAX | full-value property-tax rate per $10,000\n",
    "| PTRATIO | pupil-teacher ratio by town\n",
    "| B | $1000 \\ times (B_k - 0.63)^2$ where $B_k$ is the proportion of blacks by town\n",
    "| LSTAT | % lower status of the population\n",
    "| MEDV | Median value of owner-occupied homes in $1000's\n",
    "\n",
    "+++\n",
    "Source:  The Boston house-price data of Harrison, D. and Rubinfeld, D.L. 'Hedonic\n",
    " prices and the demand for clean air', J. Environ. Economics & Management,\n",
    " vol.5, 81-102, 1978. \n",
    "```` -->"
   ]
  },
  {
   "cell_type": "code",
   "execution_count": 1,
   "metadata": {},
   "outputs": [
    {
     "data": {
      "text/html": [
       "<div>\n",
       "<style scoped>\n",
       "    .dataframe tbody tr th:only-of-type {\n",
       "        vertical-align: middle;\n",
       "    }\n",
       "\n",
       "    .dataframe tbody tr th {\n",
       "        vertical-align: top;\n",
       "    }\n",
       "\n",
       "    .dataframe thead th {\n",
       "        text-align: right;\n",
       "    }\n",
       "</style>\n",
       "<table border=\"1\" class=\"dataframe\">\n",
       "  <thead>\n",
       "    <tr style=\"text-align: right;\">\n",
       "      <th></th>\n",
       "      <th>Continent</th>\n",
       "      <th>Country</th>\n",
       "      <th>Primary completion rate: Male: % of relevant age group: 2015</th>\n",
       "      <th>Primary completion rate: Female: % of relevant age group: 2015</th>\n",
       "      <th>Lower secondary completion rate: Male: % of relevant age group: 2015</th>\n",
       "      <th>Lower secondary completion rate: Female: % of relevant age group: 2015</th>\n",
       "      <th>Youth literacy rate: Male: % of ages 15-24: 2005-14</th>\n",
       "      <th>Youth literacy rate: Female: % of ages 15-24: 2005-14</th>\n",
       "      <th>Adult literacy rate: Male: % ages 15 and older: 2005-14</th>\n",
       "      <th>Adult literacy rate: Female: % ages 15 and older: 2005-14</th>\n",
       "      <th>...</th>\n",
       "      <th>Access to improved sanitation facilities: % of population: 1990</th>\n",
       "      <th>Access to improved sanitation facilities: % of population: 2015</th>\n",
       "      <th>Child immunization rate: Measles: % of children ages 12-23 months: 2015</th>\n",
       "      <th>Child immunization rate: DTP3: % of children ages 12-23 months: 2015</th>\n",
       "      <th>Children with acute respiratory infection taken to health provider: % of children under age 5 with ARI: 2009-2016</th>\n",
       "      <th>Children with diarrhea who received oral rehydration and continuous feeding: % of children under age 5 with diarrhea: 2009-2016</th>\n",
       "      <th>Children sleeping under treated bed nets: % of children under age 5: 2009-2016</th>\n",
       "      <th>Children with fever receiving antimalarial drugs: % of children under age 5 with fever: 2009-2016</th>\n",
       "      <th>Tuberculosis: Treatment success rate: % of new cases: 2014</th>\n",
       "      <th>Tuberculosis: Cases detection rate: % of new estimated cases: 2015</th>\n",
       "    </tr>\n",
       "  </thead>\n",
       "  <tbody>\n",
       "    <tr>\n",
       "      <th>0</th>\n",
       "      <td>Africa</td>\n",
       "      <td>Algeria</td>\n",
       "      <td>106.0</td>\n",
       "      <td>105.0</td>\n",
       "      <td>68.0</td>\n",
       "      <td>85.0</td>\n",
       "      <td>96.0</td>\n",
       "      <td>92.0</td>\n",
       "      <td>83.0</td>\n",
       "      <td>68.0</td>\n",
       "      <td>...</td>\n",
       "      <td>80.0</td>\n",
       "      <td>88.0</td>\n",
       "      <td>95.0</td>\n",
       "      <td>95.0</td>\n",
       "      <td>66.0</td>\n",
       "      <td>42.0</td>\n",
       "      <td>NaN</td>\n",
       "      <td>NaN</td>\n",
       "      <td>88.0</td>\n",
       "      <td>80.0</td>\n",
       "    </tr>\n",
       "    <tr>\n",
       "      <th>1</th>\n",
       "      <td>Africa</td>\n",
       "      <td>Angola</td>\n",
       "      <td>NaN</td>\n",
       "      <td>NaN</td>\n",
       "      <td>NaN</td>\n",
       "      <td>NaN</td>\n",
       "      <td>79.0</td>\n",
       "      <td>67.0</td>\n",
       "      <td>82.0</td>\n",
       "      <td>60.0</td>\n",
       "      <td>...</td>\n",
       "      <td>22.0</td>\n",
       "      <td>52.0</td>\n",
       "      <td>55.0</td>\n",
       "      <td>64.0</td>\n",
       "      <td>NaN</td>\n",
       "      <td>NaN</td>\n",
       "      <td>25.9</td>\n",
       "      <td>28.3</td>\n",
       "      <td>34.0</td>\n",
       "      <td>64.0</td>\n",
       "    </tr>\n",
       "    <tr>\n",
       "      <th>2</th>\n",
       "      <td>Africa</td>\n",
       "      <td>Benin</td>\n",
       "      <td>83.0</td>\n",
       "      <td>73.0</td>\n",
       "      <td>50.0</td>\n",
       "      <td>37.0</td>\n",
       "      <td>55.0</td>\n",
       "      <td>31.0</td>\n",
       "      <td>41.0</td>\n",
       "      <td>18.0</td>\n",
       "      <td>...</td>\n",
       "      <td>7.0</td>\n",
       "      <td>20.0</td>\n",
       "      <td>75.0</td>\n",
       "      <td>79.0</td>\n",
       "      <td>23.0</td>\n",
       "      <td>33.0</td>\n",
       "      <td>72.7</td>\n",
       "      <td>25.9</td>\n",
       "      <td>89.0</td>\n",
       "      <td>61.0</td>\n",
       "    </tr>\n",
       "    <tr>\n",
       "      <th>3</th>\n",
       "      <td>Africa</td>\n",
       "      <td>Botswana</td>\n",
       "      <td>98.0</td>\n",
       "      <td>101.0</td>\n",
       "      <td>86.0</td>\n",
       "      <td>87.0</td>\n",
       "      <td>96.0</td>\n",
       "      <td>99.0</td>\n",
       "      <td>87.0</td>\n",
       "      <td>89.0</td>\n",
       "      <td>...</td>\n",
       "      <td>39.0</td>\n",
       "      <td>63.0</td>\n",
       "      <td>97.0</td>\n",
       "      <td>95.0</td>\n",
       "      <td>NaN</td>\n",
       "      <td>NaN</td>\n",
       "      <td>NaN</td>\n",
       "      <td>NaN</td>\n",
       "      <td>77.0</td>\n",
       "      <td>62.0</td>\n",
       "    </tr>\n",
       "    <tr>\n",
       "      <th>5</th>\n",
       "      <td>Africa</td>\n",
       "      <td>Burundi</td>\n",
       "      <td>58.0</td>\n",
       "      <td>66.0</td>\n",
       "      <td>35.0</td>\n",
       "      <td>30.0</td>\n",
       "      <td>90.0</td>\n",
       "      <td>88.0</td>\n",
       "      <td>89.0</td>\n",
       "      <td>85.0</td>\n",
       "      <td>...</td>\n",
       "      <td>42.0</td>\n",
       "      <td>48.0</td>\n",
       "      <td>93.0</td>\n",
       "      <td>94.0</td>\n",
       "      <td>55.0</td>\n",
       "      <td>43.0</td>\n",
       "      <td>53.8</td>\n",
       "      <td>25.4</td>\n",
       "      <td>91.0</td>\n",
       "      <td>51.0</td>\n",
       "    </tr>\n",
       "  </tbody>\n",
       "</table>\n",
       "<p>5 rows × 47 columns</p>\n",
       "</div>"
      ],
      "text/plain": [
       "  Continent   Country  \\\n",
       "0    Africa   Algeria   \n",
       "1    Africa    Angola   \n",
       "2    Africa     Benin   \n",
       "3    Africa  Botswana   \n",
       "5    Africa   Burundi   \n",
       "\n",
       "   Primary completion rate: Male: % of relevant age group: 2015  \\\n",
       "0                                              106.0              \n",
       "1                                                NaN              \n",
       "2                                               83.0              \n",
       "3                                               98.0              \n",
       "5                                               58.0              \n",
       "\n",
       "   Primary completion rate: Female: % of relevant age group: 2015  \\\n",
       "0                                              105.0                \n",
       "1                                                NaN                \n",
       "2                                               73.0                \n",
       "3                                              101.0                \n",
       "5                                               66.0                \n",
       "\n",
       "   Lower secondary completion rate: Male: % of relevant age group: 2015  \\\n",
       "0                                               68.0                      \n",
       "1                                                NaN                      \n",
       "2                                               50.0                      \n",
       "3                                               86.0                      \n",
       "5                                               35.0                      \n",
       "\n",
       "   Lower secondary completion rate: Female: % of relevant age group: 2015  \\\n",
       "0                                               85.0                        \n",
       "1                                                NaN                        \n",
       "2                                               37.0                        \n",
       "3                                               87.0                        \n",
       "5                                               30.0                        \n",
       "\n",
       "   Youth literacy rate: Male: % of ages 15-24: 2005-14  \\\n",
       "0                                               96.0     \n",
       "1                                               79.0     \n",
       "2                                               55.0     \n",
       "3                                               96.0     \n",
       "5                                               90.0     \n",
       "\n",
       "   Youth literacy rate: Female: % of ages 15-24: 2005-14  \\\n",
       "0                                               92.0       \n",
       "1                                               67.0       \n",
       "2                                               31.0       \n",
       "3                                               99.0       \n",
       "5                                               88.0       \n",
       "\n",
       "   Adult literacy rate: Male: % ages 15 and older: 2005-14  \\\n",
       "0                                               83.0         \n",
       "1                                               82.0         \n",
       "2                                               41.0         \n",
       "3                                               87.0         \n",
       "5                                               89.0         \n",
       "\n",
       "   Adult literacy rate: Female: % ages 15 and older: 2005-14  ...  \\\n",
       "0                                               68.0          ...   \n",
       "1                                               60.0          ...   \n",
       "2                                               18.0          ...   \n",
       "3                                               89.0          ...   \n",
       "5                                               85.0          ...   \n",
       "\n",
       "   Access to improved sanitation facilities: % of population: 1990  \\\n",
       "0                                               80.0                 \n",
       "1                                               22.0                 \n",
       "2                                                7.0                 \n",
       "3                                               39.0                 \n",
       "5                                               42.0                 \n",
       "\n",
       "   Access to improved sanitation facilities: % of population: 2015  \\\n",
       "0                                               88.0                 \n",
       "1                                               52.0                 \n",
       "2                                               20.0                 \n",
       "3                                               63.0                 \n",
       "5                                               48.0                 \n",
       "\n",
       "   Child immunization rate: Measles: % of children ages 12-23 months: 2015  \\\n",
       "0                                               95.0                         \n",
       "1                                               55.0                         \n",
       "2                                               75.0                         \n",
       "3                                               97.0                         \n",
       "5                                               93.0                         \n",
       "\n",
       "   Child immunization rate: DTP3: % of children ages 12-23 months: 2015  \\\n",
       "0                                               95.0                      \n",
       "1                                               64.0                      \n",
       "2                                               79.0                      \n",
       "3                                               95.0                      \n",
       "5                                               94.0                      \n",
       "\n",
       "   Children with acute respiratory infection taken to health provider: % of children under age 5 with ARI: 2009-2016  \\\n",
       "0                                               66.0                                                                   \n",
       "1                                                NaN                                                                   \n",
       "2                                               23.0                                                                   \n",
       "3                                                NaN                                                                   \n",
       "5                                               55.0                                                                   \n",
       "\n",
       "   Children with diarrhea who received oral rehydration and continuous feeding: % of children under age 5 with diarrhea: 2009-2016  \\\n",
       "0                                               42.0                                                                                 \n",
       "1                                                NaN                                                                                 \n",
       "2                                               33.0                                                                                 \n",
       "3                                                NaN                                                                                 \n",
       "5                                               43.0                                                                                 \n",
       "\n",
       "   Children sleeping under treated bed nets: % of children under age 5: 2009-2016  \\\n",
       "0                                                NaN                                \n",
       "1                                               25.9                                \n",
       "2                                               72.7                                \n",
       "3                                                NaN                                \n",
       "5                                               53.8                                \n",
       "\n",
       "   Children with fever receiving antimalarial drugs: % of children under age 5 with fever: 2009-2016  \\\n",
       "0                                                NaN                                                   \n",
       "1                                               28.3                                                   \n",
       "2                                               25.9                                                   \n",
       "3                                                NaN                                                   \n",
       "5                                               25.4                                                   \n",
       "\n",
       "   Tuberculosis: Treatment success rate: % of new cases: 2014  \\\n",
       "0                                               88.0            \n",
       "1                                               34.0            \n",
       "2                                               89.0            \n",
       "3                                               77.0            \n",
       "5                                               91.0            \n",
       "\n",
       "   Tuberculosis: Cases detection rate: % of new estimated cases: 2015  \n",
       "0                                               80.0                   \n",
       "1                                               64.0                   \n",
       "2                                               61.0                   \n",
       "3                                               62.0                   \n",
       "5                                               51.0                   \n",
       "\n",
       "[5 rows x 47 columns]"
      ]
     },
     "execution_count": 1,
     "metadata": {},
     "output_type": "execute_result"
    }
   ],
   "source": [
    "import pandas as pd \n",
    "import seaborn as sns \n",
    "from matplotlib import pyplot as plt\n",
    "\n",
    "sns.set_style('whitegrid')\n",
    "\n",
    "data = pd.read_csv('https://raw.githubusercontent.com/fahadsultan/datascience_ml/main/data/world_bank.csv', index_col=0)\n",
    "data.head()"
   ]
  },
  {
   "attachments": {},
   "cell_type": "markdown",
   "metadata": {},
   "source": [
    "## Bar Plots\n",
    "\n",
    "**Bar plots** are used to visualize the frequency distribution of <i><u>**features that take on a small set of unique values**</u></i>. Such features are more often categorical features as opposed to numerical features.\n",
    "\n",
    "Visualizing categorical features is easy. We can use **`.value_counts()`** method to get the frequency distribution of each value in the feature. This frequency distribution can be plotted using a **bar chart**. "
   ]
  },
  {
   "cell_type": "code",
   "execution_count": 2,
   "metadata": {},
   "outputs": [
    {
     "name": "stdout",
     "output_type": "stream",
     "text": [
      "Africa        47\n",
      "Europe        43\n",
      "Asia          34\n",
      "N. America    18\n",
      "Oceania       13\n",
      "S. America    11\n",
      "Name: Continent, dtype: int64\n"
     ]
    }
   ],
   "source": [
    "val_counts = data['Continent'].value_counts()\n",
    "print(val_counts)"
   ]
  },
  {
   "attachments": {},
   "cell_type": "markdown",
   "metadata": {},
   "source": [
    "In `seaborn` the method to make a bar chart is **`barplot()`**. The method takes in two arguments: `x` and `y`. "
   ]
  },
  {
   "cell_type": "code",
   "execution_count": 3,
   "metadata": {},
   "outputs": [
    {
     "data": {
      "image/png": "[encoded data removed]",
      "text/plain": [
       "<Figure size 640x480 with 1 Axes>"
      ]
     },
     "metadata": {},
     "output_type": "display_data"
    }
   ],
   "source": [
    "sns.barplot(x=val_counts.index, y=val_counts.values);"
   ]
  },
  {
   "attachments": {},
   "cell_type": "markdown",
   "metadata": {},
   "source": [
    "Note that the plots above are **incomplete**. If you show this plot to someone, they will not be able to understand what the plot is about. \n",
    "\n",
    "To _complete_ the plot, so it is understandable, we need to add atleast a title, axis labels and, depending on context, a legend."
   ]
  },
  {
   "attachments": {},
   "cell_type": "markdown",
   "metadata": {},
   "source": [
    "## Axis labels and Title \n",
    "\n",
    "To add axis labels and title, we need to assign the plot object returned by `sns.barplot` to a variable and then use **`.set()`** method on the plot object.\n"
   ]
  },
  {
   "cell_type": "code",
   "execution_count": 4,
   "metadata": {},
   "outputs": [
    {
     "data": {
      "image/png": "[encoded data removed]",
      "text/plain": [
       "<Figure size 640x480 with 1 Axes>"
      ]
     },
     "metadata": {},
     "output_type": "display_data"
    }
   ],
   "source": [
    "ax = sns.barplot(x=val_counts.index, y=val_counts.values);\n",
    "\n",
    "ax.set(xlabel='Continent', ylabel='Count of countries (rows)', title='Count of countries in each continent');"
   ]
  },
  {
   "attachments": {},
   "cell_type": "markdown",
   "metadata": {},
   "source": [
    "Note that we have used **`.set()`** method on the plot object, returned by **`sns.barplot()`** method, and passed the arguments `xlabel`, `ylabel` and `title` to the method.\n",
    "\n",
    "Now, the plot is \"complete\" and can be understood by someone who has not seen the data. "
   ]
  },
  {
   "attachments": {},
   "cell_type": "markdown",
   "metadata": {},
   "source": [
    "<hr/>\n",
    "\n",
    "**Bar plots don't scale**. If you try to plot a feature (categorical or numerical) with a lot of unique values, the plot will be unreadable. Yes, even with a title and axis labels!\n",
    "\n",
    "Here is an example: "
   ]
  },
  {
   "cell_type": "code",
   "execution_count": 5,
   "metadata": {},
   "outputs": [
    {
     "data": {
      "image/png": "[encoded data removed]",
      "text/plain": [
       "<Figure size 640x480 with 1 Axes>"
      ]
     },
     "metadata": {},
     "output_type": "display_data"
    }
   ],
   "source": [
    "val_counts = data['Country'].value_counts();\n",
    "\n",
    "ax = sns.barplot(x=val_counts.index, y=val_counts.values);\n",
    "\n",
    "ax.set(xlabel='Country', ylabel='Count', title='Frequency of countries in the World Bank data');"
   ]
  },
  {
   "attachments": {},
   "cell_type": "markdown",
   "metadata": {},
   "source": [
    "The plot above is unreadable. We can't make out the labels on the x-axis. This is because there are too many unique values in the `country` feature.\n",
    "\n",
    "There is no easy way to fix this for categorical features. For numerical features, however, there is a way.\n",
    "\n",
    "<!--To make the plot readable, we need to **rotate** the x-axis labels.\n",
    "\n",
    "## Rotating x-axis labels\n",
    "\n",
    "To rotate the x-axis labels, we need to use the **`.set_xticklabels()`** method on the plot object. -->"
   ]
  },
  {
   "attachments": {},
   "cell_type": "markdown",
   "metadata": {},
   "source": [
    "## Histograms\n",
    "\n",
    "Histograms _look_ very similar to bar plots. However, they are different in a subtle but critical way. \n",
    "\n",
    "Histograms solve the problem of plotting a feature with a lot of unique values by **binning** the values. \n",
    "\n",
    "Binning is the process of dividing the range of values of a feature into **bins**. Each bin represents a range of values. The height of the bar in a histogram represents the number of values in the bin. In most cases, the bins are of equal width.\n",
    "\n",
    "For example, if we have a feature with values ranging from 0 to 100, we can divide the range into 10 bins of width 10 each. The first bin will contain values from 0 to 10, the second bin will contain values from 10 to 20 and so on.\n"
   ]
  },
  {
   "cell_type": "code",
   "execution_count": 6,
   "metadata": {},
   "outputs": [
    {
     "data": {
      "image/png": "[encoded data removed]",
      "text/plain": [
       "<Figure size 640x480 with 1 Axes>"
      ]
     },
     "metadata": {},
     "output_type": "display_data"
    }
   ],
   "source": [
    "col = \"Gross domestic product: % growth : 2016\"\n",
    "\n",
    "ax = sns.histplot(data=data, x=col);\n",
    "\n",
    "ax.set(title=\"Distribution of GDP growth in 2016\");\n"
   ]
  },
  {
   "attachments": {},
   "cell_type": "markdown",
   "metadata": {},
   "source": [
    "\n",
    "By default, `sns.histplot` will try to infer the bin edges from the data. However, it is possible to set the bin edges explicitly. This can be useful when comparing multiple distributions."
   ]
  },
  {
   "attachments": {},
   "cell_type": "markdown",
   "metadata": {},
   "source": [
    "## Box Plots\n",
    "\n",
    "<img align=\"right\" width=\"60%\" src=\"https://ds100.org/course-notes-su23/visualization_1/images/boxplot.png\">\n",
    "\n",
    "**Box plots** display distributions using information about quartiles.\n",
    "\n",
    "A quartile represents a 25% portion of the data. We say that: \n",
    "\n",
    "* The first quartile (Q1) repesents the 25th percentile – 25% of the data lies below the first quartile \n",
    "\n",
    "* The second quartile (Q2) represents the 50th percentile, also known as the median – 50% of the data lies below the second quartile \n",
    "\n",
    "* The third quartile (Q3) represents the 75th percentile – 75% of the data lies below the third quartile.\n",
    "\n",
    "In a box plot, the lower extent of the box lies at Q1, while the upper extent of the box lies at Q3. The horizontal line in the middle of the box corresponds to Q2 (equivalently, the median).\n",
    "\n",
    "The **Inter-Quartile Range** (IQR) measures the spread of the middle \\% of the distribution, calculated as the ($3^{rd}$ Quartile $-$ $1^{st}$ Quartile).\n",
    "\n",
    "The **whiskers** of a box-plot are the two points that lie at the [$1^{st}$ Quartile $-$($1.5 \\times$ IQR)], and the [$3^{rd}$ Quartile $+$ ($1.5 \\times$ IQR)]. They are the lower and upper ranges of “normal” data (the points excluding outliers). Subsequently, the outliers are the data points that fall beyond the whiskers, or further than (\n",
    "$1.5 \\times$ IQR) from the extreme quartiles."
   ]
  },
  {
   "cell_type": "code",
   "execution_count": 7,
   "metadata": {},
   "outputs": [
    {
     "name": "stdout",
     "output_type": "stream",
     "text": [
      "count    159.000000\n",
      "mean       2.780503\n",
      "std        3.106862\n",
      "min      -10.400000\n",
      "25%        1.450000\n",
      "50%        2.900000\n",
      "75%        4.500000\n",
      "max       11.000000\n",
      "Name: Gross domestic product: % growth : 2016, dtype: float64\n"
     ]
    },
    {
     "data": {
      "image/png": "[encoded data removed]",
      "text/plain": [
       "<Figure size 640x480 with 1 Axes>"
      ]
     },
     "metadata": {},
     "output_type": "display_data"
    }
   ],
   "source": [
    "col = \"Gross domestic product: % growth : 2016\"\n",
    "\n",
    "print(data[col].describe())\n",
    "ax = sns.boxplot(data=data, y=col, width=0.5);"
   ]
  },
  {
   "attachments": {},
   "cell_type": "markdown",
   "metadata": {},
   "source": [
    "If it helps, you can think of the box plot as a birds-eye-view of histogram. Histogram as seeing a hill from the side, while box plot is seeing the hill from above through a drone or through a bird's eye. \n",
    "\n",
    "Also note that boxplot is to `.describe()` as barplot is to `.value_counts()`."
   ]
  }
 ],
 "metadata": {
  "kernelspec": {
   "display_name": "base",
   "language": "python",
   "name": "python3"
  },
  "language_info": {
   "codemirror_mode": {
    "name": "ipython",
    "version": 3
   },
   "file_extension": ".py",
   "mimetype": "text/x-python",
   "name": "python",
   "nbconvert_exporter": "python",
   "pygments_lexer": "ipython3",
   "version": "3.9.12"
  }
 },
 "nbformat": 4,
 "nbformat_minor": 2
}